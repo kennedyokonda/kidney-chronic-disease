{
  "nbformat": 4,
  "nbformat_minor": 0,
  "metadata": {
    "colab": {
      "provenance": [],
      "authorship_tag": "ABX9TyMsZtGRZyGnWDoYiDw98O6l",
      "include_colab_link": true
    },
    "kernelspec": {
      "name": "python3",
      "display_name": "Python 3"
    },
    "language_info": {
      "name": "python"
    }
  },
  "cells": [
    {
      "cell_type": "markdown",
      "metadata": {
        "id": "view-in-github",
        "colab_type": "text"
      },
      "source": [
        "<a href=\"https://colab.research.google.com/github/kennedyokonda/kidney-chronic-disease/blob/main/Untitled1.ipynb\" target=\"_parent\"><img src=\"https://colab.research.google.com/assets/colab-badge.svg\" alt=\"Open In Colab\"/></a>"
      ]
    },
    {
      "cell_type": "code",
      "execution_count": 28,
      "metadata": {
        "colab": {
          "base_uri": "https://localhost:8080/"
        },
        "id": "IVEIqBfkFHpL",
        "outputId": "17b4b988-dc29-45f5-8b4d-1a5e9f85eade"
      },
      "outputs": [
        {
          "output_type": "stream",
          "name": "stdout",
          "text": [
            "Requirement already satisfied: nltk in /usr/local/lib/python3.10/dist-packages (3.9.1)\n",
            "Requirement already satisfied: click in /usr/local/lib/python3.10/dist-packages (from nltk) (8.1.7)\n",
            "Requirement already satisfied: joblib in /usr/local/lib/python3.10/dist-packages (from nltk) (1.4.2)\n",
            "Requirement already satisfied: regex>=2021.8.3 in /usr/local/lib/python3.10/dist-packages (from nltk) (2024.9.11)\n",
            "Requirement already satisfied: tqdm in /usr/local/lib/python3.10/dist-packages (from nltk) (4.66.6)\n"
          ]
        }
      ],
      "source": [
        "pip install nltk\n"
      ]
    },
    {
      "cell_type": "code",
      "source": [
        "pip install newspaper3k"
      ],
      "metadata": {
        "colab": {
          "base_uri": "https://localhost:8080/"
        },
        "id": "UvwqdVmLFQRg",
        "outputId": "96654a08-69ff-4bf2-e15d-e2e983a6e2ca"
      },
      "execution_count": 29,
      "outputs": [
        {
          "output_type": "stream",
          "name": "stdout",
          "text": [
            "Requirement already satisfied: newspaper3k in /usr/local/lib/python3.10/dist-packages (0.2.8)\n",
            "Requirement already satisfied: beautifulsoup4>=4.4.1 in /usr/local/lib/python3.10/dist-packages (from newspaper3k) (4.12.3)\n",
            "Requirement already satisfied: Pillow>=3.3.0 in /usr/local/lib/python3.10/dist-packages (from newspaper3k) (11.0.0)\n",
            "Requirement already satisfied: PyYAML>=3.11 in /usr/local/lib/python3.10/dist-packages (from newspaper3k) (6.0.2)\n",
            "Requirement already satisfied: cssselect>=0.9.2 in /usr/local/lib/python3.10/dist-packages (from newspaper3k) (1.2.0)\n",
            "Requirement already satisfied: lxml>=3.6.0 in /usr/local/lib/python3.10/dist-packages (from newspaper3k) (5.3.0)\n",
            "Requirement already satisfied: nltk>=3.2.1 in /usr/local/lib/python3.10/dist-packages (from newspaper3k) (3.9.1)\n",
            "Requirement already satisfied: requests>=2.10.0 in /usr/local/lib/python3.10/dist-packages (from newspaper3k) (2.32.3)\n",
            "Requirement already satisfied: feedparser>=5.2.1 in /usr/local/lib/python3.10/dist-packages (from newspaper3k) (6.0.11)\n",
            "Requirement already satisfied: tldextract>=2.0.1 in /usr/local/lib/python3.10/dist-packages (from newspaper3k) (5.1.3)\n",
            "Requirement already satisfied: feedfinder2>=0.0.4 in /usr/local/lib/python3.10/dist-packages (from newspaper3k) (0.0.4)\n",
            "Requirement already satisfied: jieba3k>=0.35.1 in /usr/local/lib/python3.10/dist-packages (from newspaper3k) (0.35.1)\n",
            "Requirement already satisfied: python-dateutil>=2.5.3 in /usr/local/lib/python3.10/dist-packages (from newspaper3k) (2.8.2)\n",
            "Requirement already satisfied: tinysegmenter==0.3 in /usr/local/lib/python3.10/dist-packages (from newspaper3k) (0.3)\n",
            "Requirement already satisfied: soupsieve>1.2 in /usr/local/lib/python3.10/dist-packages (from beautifulsoup4>=4.4.1->newspaper3k) (2.6)\n",
            "Requirement already satisfied: six in /usr/local/lib/python3.10/dist-packages (from feedfinder2>=0.0.4->newspaper3k) (1.16.0)\n",
            "Requirement already satisfied: sgmllib3k in /usr/local/lib/python3.10/dist-packages (from feedparser>=5.2.1->newspaper3k) (1.0.0)\n",
            "Requirement already satisfied: click in /usr/local/lib/python3.10/dist-packages (from nltk>=3.2.1->newspaper3k) (8.1.7)\n",
            "Requirement already satisfied: joblib in /usr/local/lib/python3.10/dist-packages (from nltk>=3.2.1->newspaper3k) (1.4.2)\n",
            "Requirement already satisfied: regex>=2021.8.3 in /usr/local/lib/python3.10/dist-packages (from nltk>=3.2.1->newspaper3k) (2024.9.11)\n",
            "Requirement already satisfied: tqdm in /usr/local/lib/python3.10/dist-packages (from nltk>=3.2.1->newspaper3k) (4.66.6)\n",
            "Requirement already satisfied: charset-normalizer<4,>=2 in /usr/local/lib/python3.10/dist-packages (from requests>=2.10.0->newspaper3k) (3.4.0)\n",
            "Requirement already satisfied: idna<4,>=2.5 in /usr/local/lib/python3.10/dist-packages (from requests>=2.10.0->newspaper3k) (3.10)\n",
            "Requirement already satisfied: urllib3<3,>=1.21.1 in /usr/local/lib/python3.10/dist-packages (from requests>=2.10.0->newspaper3k) (2.2.3)\n",
            "Requirement already satisfied: certifi>=2017.4.17 in /usr/local/lib/python3.10/dist-packages (from requests>=2.10.0->newspaper3k) (2024.8.30)\n",
            "Requirement already satisfied: requests-file>=1.4 in /usr/local/lib/python3.10/dist-packages (from tldextract>=2.0.1->newspaper3k) (2.1.0)\n",
            "Requirement already satisfied: filelock>=3.0.8 in /usr/local/lib/python3.10/dist-packages (from tldextract>=2.0.1->newspaper3k) (3.16.1)\n"
          ]
        }
      ]
    },
    {
      "cell_type": "code",
      "source": [
        "!pip install lxml[html_clean]"
      ],
      "metadata": {
        "colab": {
          "base_uri": "https://localhost:8080/"
        },
        "id": "daWFOhmBILHo",
        "outputId": "9488be7c-6f0e-4bdd-eb95-d2040302567f"
      },
      "execution_count": 30,
      "outputs": [
        {
          "output_type": "stream",
          "name": "stdout",
          "text": [
            "Requirement already satisfied: lxml[html_clean] in /usr/local/lib/python3.10/dist-packages (5.3.0)\n",
            "Requirement already satisfied: lxml-html-clean in /usr/local/lib/python3.10/dist-packages (from lxml[html_clean]) (0.4.1)\n"
          ]
        }
      ]
    },
    {
      "cell_type": "code",
      "source": [
        "import numpy as np\n",
        "import random\n",
        "import string\n",
        "from newspaper import article\n",
        "from sklearn.feature_extraction.text import CountVectorizer\n",
        "from sklearn.metrics.pairwise import cosine_similarity\n",
        "import nltk\n",
        "import warnings\n",
        "warnings.filterwarnings('ignore')"
      ],
      "metadata": {
        "id": "pTVg0JLJGybZ"
      },
      "execution_count": 31,
      "outputs": []
    },
    {
      "cell_type": "code",
      "source": [
        "#dowloading the punkt package\n",
        "import shutil\n",
        "import os\n",
        "nltk_data_path = '/root/nltk_data'\n",
        "if os.path.exists(nltk_data_path):\n",
        "  shutil.rmtree(nltk_data_path)\n",
        "\n",
        "nltk.download('punkt', quiet='True')\n",
        "from nltk.data import find\n",
        "try:\n",
        "  find('tokenizers/punkt_tab')\n",
        "  print(\":punkt_tab is available\")\n",
        "except LookupError:\n",
        "    print(\"punkt is not available , trying to download\")\n",
        "    nltk.download('punkt_tab', quiet = 'True')"
      ],
      "metadata": {
        "colab": {
          "base_uri": "https://localhost:8080/"
        },
        "id": "AGWM_k66Gwd0",
        "outputId": "88fefdee-3d5e-4cff-a97d-315b37d04d7e"
      },
      "execution_count": 32,
      "outputs": [
        {
          "output_type": "stream",
          "name": "stdout",
          "text": [
            "punkt is not available , trying to download\n"
          ]
        }
      ]
    },
    {
      "cell_type": "code",
      "source": [
        "#get the article and download it\n",
        "article_url = 'https://www.mayoclinic.org/diseases-conditions/chronic-kidney-disease/symptoms-causes/syc-20354521'\n",
        "ArticleObj = article.Article(article_url)\n",
        "ArticleObj.download()\n",
        "ArticleObj.parse()\n",
        "ArticleObj.nlp()\n",
        "corpus = ArticleObj.text\n",
        "\n"
      ],
      "metadata": {
        "id": "oQAm_RjCMfgz"
      },
      "execution_count": 33,
      "outputs": []
    },
    {
      "cell_type": "code",
      "source": [
        "#see the data\n",
        "print(corpus)"
      ],
      "metadata": {
        "colab": {
          "base_uri": "https://localhost:8080/"
        },
        "id": "cukMHjaYNMdG",
        "outputId": "7fd36731-e8a2-41a4-cbc1-d2f71471b356"
      },
      "execution_count": 34,
      "outputs": [
        {
          "output_type": "stream",
          "name": "stdout",
          "text": [
            "I'm Dr. Andrew Bentall, a kidney doctor at Mayo Clinic. I look after patients with kidney disease, either in the early stages, or with more advanced kidney disease considering dialysis and transplantation as treatment options. In this video, we'll cover the basics of chronic kidney disease. What is it? Who gets it? The symptoms, diagnosis and treatment. Whether you are looking for answers for yourself or for someone you love, we're here to give you the best information available.\n",
            "\n",
            "Chronic kidney disease is a disease characterized by progressive damage and loss of function in the kidneys. It's estimated that chronic kidney disease affects about one in seven American adults. And most of those don't know they have it. Before we get into the disease itself, let's talk a little bit about the kidneys and what they do. Our kidneys play many important roles keeping our bodies in balance. They remove waste and toxins, excess water from the bloodstream, which is carried out of the body in urine. They helped to make hormones to produce red blood cells, and they turn vitamin D into its active form, so it's usable in the body.\n",
            "\n",
            "There are quite a few things that can cause or put you at higher risk for chronic kidney disease. Some of them are not things that can be avoided. Your risk is simply higher if you have a family history of certain genetic conditions like polycystic kidney disease or some autoimmune diseases like lupus or IgA nephropathy. Defects in the kidney structure can also cause your kidneys to fail, and you have an increased risk as you get older. Sometimes, other common medical conditions can increase your risk. Diabetes is the most common cause of kidney disease. Both type 1 and type 2 diabetes. But also heart disease and obesity can contribute to the damage that causes kidneys to fail. Urinary tract issues and inflammation in different parts of the kidney can also lead to long-term functional decline. There are things that are more under our control: Heavy or long-term use of certain medications, even those that are common over-the-counter. Smoking can also be a contributing factor to chronic kidney disease.\n",
            "\n",
            "Often there are no outward signs in the earlier stages of chronic kidney disease, which is grouped into stages 1 through 5. Generally, earlier stages are known as 1 to 3. And as kidney disease progresses, you may notice the following symptoms. Nausea and vomiting, muscle cramps, loss of appetite, swelling via feet and ankles, dry, itchy skin, shortness of breath, trouble sleeping, urinating either too much or too little. However, these are usually in the later stages, but they can also happen in other disorders. So don't automatically interpret this as having kidney disease. But if you're experiencing anything that concerns you, you should make an appointment with your doctor.\n",
            "\n",
            "Even before any symptoms appear, routine blood work can indicate that you might be in the early stages of chronic kidney disease. And the earlier it's detected, the easier it is to treat. This is why regular checkups with your doctor are important. If your doctor suspects the onset of chronic kidney disease, they may schedule a variety of other tests. They may also refer you to a kidney specialist, a nephrologist like myself. Urine tests can reveal abnormalities and give clues to the underlying cause of the chronic kidney disease. And this can also help to determine the underlying issues. Various imaging tests like ultrasounds or CT scans can be done to help your doctor assess the size, the structure, as well as evaluate the visible damage, inflammation or stones of your kidneys. And in some cases, a kidney biopsy may be necessary. And a small amount of tissue is taken with a needle and sent to the pathologist for further analysis.\n",
            "\n",
            "Treatment is determined by what is causing your kidneys to not function normally. Treating the cause is key, leading to reduced complications and slowing progression of kidney disease. For example, getting better blood pressure control, improved sugar control and diabetes, and reducing weight are often key interventions. However, existing damage is not usually reversible. In some conditions, treatment can reverse the cause of the disease. So seeking medical review is really important. Individual complications vary, but treatment might include high blood pressure medication, diuretics to reduce fluid and swelling, supplements to relieve anemia, statins to lower cholesterol, or medications to protect your bones and prevent blood vessel calcification. A lower-protein diet may also be recommended. It reduces the amount of waste your kidneys need to filter from your blood. These can not only slow the damage of kidney disease, but make you feel better as well. When the damage has progressed to the point that 85 to 90 percent of your kidney function is gone, and they no longer work well enough to keep you alive, it's called end-stage kidney failure. But there are still options. There's dialysis, which uses a machine to filter the toxins and remove water from your body as your kidneys are no longer able to do this. Where possible, the preferred therapy is a kidney transplant. While an organ transplant can sound daunting, it's actually often the better alternative, and the closest thing to a cure, if you qualify for a kidney transplant.\n",
            "\n",
            "If you have kidney disease, there are lifestyle choices. Namely quit smoking. Consuming alcohol in moderation. If you're overweight or obese, then try to lose weight. Staying active and getting exercise can help not only with your weight, but fatigue and stress. If your condition allows, keep up with your routine, whether that's working, hobbies, social activities, or other things you enjoy. It can be helpful to talk to someone you trust, a friend or relative who's good at listening. Or your doctor could also refer you to a therapist or social worker. It can also be helpful to find a support group and connect with people going through the same thing. Learning you have chronic kidney disease and learning how to live with it can be a challenge. But there are lots of ways to help you to be more comfortable for longer before more drastic measures are needed. And even then, there is plenty of hope. If you'd like to learn even more about chronic kidney disease, watch our other related videos or visit mayoclinic.org. We wish you well.\n"
          ]
        }
      ]
    },
    {
      "cell_type": "code",
      "source": [
        "#tokenization\n",
        "text = corpus\n",
        "sentence_list = nltk.sent_tokenize(text)\n",
        "sentence_list"
      ],
      "metadata": {
        "colab": {
          "base_uri": "https://localhost:8080/"
        },
        "id": "Y9uHK3ScPR_u",
        "outputId": "4a61189d-5d0b-4286-ede2-a9ed03af8946"
      },
      "execution_count": 37,
      "outputs": [
        {
          "output_type": "execute_result",
          "data": {
            "text/plain": [
              "[\"I'm Dr. Andrew Bentall, a kidney doctor at Mayo Clinic.\",\n",
              " 'I look after patients with kidney disease, either in the early stages, or with more advanced kidney disease considering dialysis and transplantation as treatment options.',\n",
              " \"In this video, we'll cover the basics of chronic kidney disease.\",\n",
              " 'What is it?',\n",
              " 'Who gets it?',\n",
              " 'The symptoms, diagnosis and treatment.',\n",
              " \"Whether you are looking for answers for yourself or for someone you love, we're here to give you the best information available.\",\n",
              " 'Chronic kidney disease is a disease characterized by progressive damage and loss of function in the kidneys.',\n",
              " \"It's estimated that chronic kidney disease affects about one in seven American adults.\",\n",
              " \"And most of those don't know they have it.\",\n",
              " \"Before we get into the disease itself, let's talk a little bit about the kidneys and what they do.\",\n",
              " 'Our kidneys play many important roles keeping our bodies in balance.',\n",
              " 'They remove waste and toxins, excess water from the bloodstream, which is carried out of the body in urine.',\n",
              " \"They helped to make hormones to produce red blood cells, and they turn vitamin D into its active form, so it's usable in the body.\",\n",
              " 'There are quite a few things that can cause or put you at higher risk for chronic kidney disease.',\n",
              " 'Some of them are not things that can be avoided.',\n",
              " 'Your risk is simply higher if you have a family history of certain genetic conditions like polycystic kidney disease or some autoimmune diseases like lupus or IgA nephropathy.',\n",
              " 'Defects in the kidney structure can also cause your kidneys to fail, and you have an increased risk as you get older.',\n",
              " 'Sometimes, other common medical conditions can increase your risk.',\n",
              " 'Diabetes is the most common cause of kidney disease.',\n",
              " 'Both type 1 and type 2 diabetes.',\n",
              " 'But also heart disease and obesity can contribute to the damage that causes kidneys to fail.',\n",
              " 'Urinary tract issues and inflammation in different parts of the kidney can also lead to long-term functional decline.',\n",
              " 'There are things that are more under our control: Heavy or long-term use of certain medications, even those that are common over-the-counter.',\n",
              " 'Smoking can also be a contributing factor to chronic kidney disease.',\n",
              " 'Often there are no outward signs in the earlier stages of chronic kidney disease, which is grouped into stages 1 through 5.',\n",
              " 'Generally, earlier stages are known as 1 to 3.',\n",
              " 'And as kidney disease progresses, you may notice the following symptoms.',\n",
              " 'Nausea and vomiting, muscle cramps, loss of appetite, swelling via feet and ankles, dry, itchy skin, shortness of breath, trouble sleeping, urinating either too much or too little.',\n",
              " 'However, these are usually in the later stages, but they can also happen in other disorders.',\n",
              " \"So don't automatically interpret this as having kidney disease.\",\n",
              " \"But if you're experiencing anything that concerns you, you should make an appointment with your doctor.\",\n",
              " 'Even before any symptoms appear, routine blood work can indicate that you might be in the early stages of chronic kidney disease.',\n",
              " \"And the earlier it's detected, the easier it is to treat.\",\n",
              " 'This is why regular checkups with your doctor are important.',\n",
              " 'If your doctor suspects the onset of chronic kidney disease, they may schedule a variety of other tests.',\n",
              " 'They may also refer you to a kidney specialist, a nephrologist like myself.',\n",
              " 'Urine tests can reveal abnormalities and give clues to the underlying cause of the chronic kidney disease.',\n",
              " 'And this can also help to determine the underlying issues.',\n",
              " 'Various imaging tests like ultrasounds or CT scans can be done to help your doctor assess the size, the structure, as well as evaluate the visible damage, inflammation or stones of your kidneys.',\n",
              " 'And in some cases, a kidney biopsy may be necessary.',\n",
              " 'And a small amount of tissue is taken with a needle and sent to the pathologist for further analysis.',\n",
              " 'Treatment is determined by what is causing your kidneys to not function normally.',\n",
              " 'Treating the cause is key, leading to reduced complications and slowing progression of kidney disease.',\n",
              " 'For example, getting better blood pressure control, improved sugar control and diabetes, and reducing weight are often key interventions.',\n",
              " 'However, existing damage is not usually reversible.',\n",
              " 'In some conditions, treatment can reverse the cause of the disease.',\n",
              " 'So seeking medical review is really important.',\n",
              " 'Individual complications vary, but treatment might include high blood pressure medication, diuretics to reduce fluid and swelling, supplements to relieve anemia, statins to lower cholesterol, or medications to protect your bones and prevent blood vessel calcification.',\n",
              " 'A lower-protein diet may also be recommended.',\n",
              " 'It reduces the amount of waste your kidneys need to filter from your blood.',\n",
              " 'These can not only slow the damage of kidney disease, but make you feel better as well.',\n",
              " \"When the damage has progressed to the point that 85 to 90 percent of your kidney function is gone, and they no longer work well enough to keep you alive, it's called end-stage kidney failure.\",\n",
              " 'But there are still options.',\n",
              " \"There's dialysis, which uses a machine to filter the toxins and remove water from your body as your kidneys are no longer able to do this.\",\n",
              " 'Where possible, the preferred therapy is a kidney transplant.',\n",
              " \"While an organ transplant can sound daunting, it's actually often the better alternative, and the closest thing to a cure, if you qualify for a kidney transplant.\",\n",
              " 'If you have kidney disease, there are lifestyle choices.',\n",
              " 'Namely quit smoking.',\n",
              " 'Consuming alcohol in moderation.',\n",
              " \"If you're overweight or obese, then try to lose weight.\",\n",
              " 'Staying active and getting exercise can help not only with your weight, but fatigue and stress.',\n",
              " \"If your condition allows, keep up with your routine, whether that's working, hobbies, social activities, or other things you enjoy.\",\n",
              " \"It can be helpful to talk to someone you trust, a friend or relative who's good at listening.\",\n",
              " 'Or your doctor could also refer you to a therapist or social worker.',\n",
              " 'It can also be helpful to find a support group and connect with people going through the same thing.',\n",
              " 'Learning you have chronic kidney disease and learning how to live with it can be a challenge.',\n",
              " 'But there are lots of ways to help you to be more comfortable for longer before more drastic measures are needed.',\n",
              " 'And even then, there is plenty of hope.',\n",
              " \"If you'd like to learn even more about chronic kidney disease, watch our other related videos or visit mayoclinic.org.\",\n",
              " 'We wish you well.']"
            ]
          },
          "metadata": {},
          "execution_count": 37
        }
      ]
    },
    {
      "cell_type": "code",
      "source": [
        "#Function to return a greeting reponse\n",
        "def greeting_response(text):\n",
        "  text = text.lower()\n",
        "  bot_greetings = ['howdy','hello','hi','hola']\n",
        "  #user greeting\n",
        "  user_greetings = ['hi','hey','hola','Hello','goodmorning','greetings']\n",
        "  for word in text.split:\n",
        "    if word in user_greetings:\n",
        "      return random.choice(bot_greetings)\n",
        "\n"
      ],
      "metadata": {
        "id": "dFvwLV-7RpoY"
      },
      "execution_count": 38,
      "outputs": []
    },
    {
      "cell_type": "code",
      "source": [
        "#for sorting\n",
        "def index_sort(list_var):\n",
        "  length = len(list_var)\n",
        "  list_index = list(range(0, length))\n",
        "  x = list_var\n",
        "  for i in range(length):\n",
        "    for j in range (length):\n",
        "      if x[list_index[i]] > x[list_index[j]]:\n",
        "        temp = list_index[i]\n",
        "        list_index[i] = list_index[j]\n",
        "        list_index[j] = temp\n",
        "        return list_index\n",
        "\n"
      ],
      "metadata": {
        "id": "M8HfhziHVArN"
      },
      "execution_count": null,
      "outputs": []
    },
    {
      "cell_type": "code",
      "source": [
        "#bot response\n",
        "def bot_response(user_input):\n",
        "  user_input = user_input.lower()\n",
        "  sentence_list.append(user_input)\n",
        "  bot_response = ' '\n",
        "  cm = CountVectorizer.fit_transform(sentence_list)\n",
        "  similarity_score = cosine_similarity(cm[-1], cm)\n",
        "  similarity_score_list = similarity_score.flatten()\n",
        "  index = index_sort(similarity_score_list)\n",
        "  index = index[-1]\n",
        "  response_flag = 0\n",
        "  j = 0\n",
        "  for\n"
      ],
      "metadata": {
        "id": "BRe6V9G1Tbo7"
      },
      "execution_count": null,
      "outputs": []
    }
  ]
}